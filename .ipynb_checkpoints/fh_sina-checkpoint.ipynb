{
 "cells": [
  {
   "cell_type": "code",
   "execution_count": 1,
   "metadata": {
    "collapsed": true
   },
   "outputs": [],
   "source": [
    "import pandas\n",
    "import urllib\n",
    "import re\n",
    "from bs4 import BeautifulSoup"
   ]
  },
  {
   "cell_type": "code",
   "execution_count": 6,
   "metadata": {
    "collapsed": true
   },
   "outputs": [],
   "source": [
    "ZQDM = \"000002\""
   ]
  },
  {
   "cell_type": "code",
   "execution_count": 7,
   "metadata": {
    "collapsed": true
   },
   "outputs": [],
   "source": [
    "url_fh_sina = u\"http://vip.stock.finance.sina.com.cn/corp/go.php/vISSUE_ShareBonus/stockid/ZQDM.phtml\""
   ]
  },
  {
   "cell_type": "code",
   "execution_count": 8,
   "metadata": {
    "collapsed": true
   },
   "outputs": [],
   "source": [
    "url_fh_sina = url_fh_sina.replace(u\"ZQDM\", ZQDM)"
   ]
  },
  {
   "cell_type": "code",
   "execution_count": 9,
   "metadata": {
    "collapsed": true
   },
   "outputs": [],
   "source": [
    "page_fh_sina = urllib.urlopen(url_fh_sina)\n",
    "page_fh_sina = page_fh_sina.read().decode(\"GB18030\").encode(\"UTF-8\")"
   ]
  },
  {
   "cell_type": "code",
   "execution_count": 12,
   "metadata": {
    "collapsed": true
   },
   "outputs": [],
   "source": [
    "page_fh_sina = BeautifulSoup(page_fh_sina, \"lxml\", from_encoding=\"UTF-8\")"
   ]
  },
  {
   "cell_type": "code",
   "execution_count": 33,
   "metadata": {
    "collapsed": false
   },
   "outputs": [],
   "source": [
    "fh_sina = page_fh_sina.find_all(\"table\", {\"id\":\"sharebonus_1\"})\n",
    "pg_sina = page_fh_sina.find_all(\"table\", {\"id\":\"sharebonus_2\"})"
   ]
  },
  {
   "cell_type": "code",
   "execution_count": 34,
   "metadata": {
    "collapsed": false
   },
   "outputs": [],
   "source": [
    "fh_sina = fh_sina[0]\n",
    "fh_sina = fh_sina.find_all(\"tbody\")\n",
    "table_fh_sina = fh_sina[0]"
   ]
  },
  {
   "cell_type": "code",
   "execution_count": 36,
   "metadata": {
    "collapsed": false
   },
   "outputs": [],
   "source": [
    "table_fh_sina = table_fh_sina.find_all(\"tr\")"
   ]
  },
  {
   "cell_type": "code",
   "execution_count": 38,
   "metadata": {
    "collapsed": false
   },
   "outputs": [
    {
     "data": {
      "text/plain": [
       "<tr>\n",
       "<td>2015-07-14</td>\n",
       "<td>0</td>\n",
       "<td>0</td>\n",
       "<td>5</td>\n",
       "<td>实施</td>\n",
       "<td>2015-07-21</td>\n",
       "<td>2015-07-20</td>\n",
       "<td>--</td>\n",
       "<td><a href=\"/corp/view/vISSUE_ShareBonusDetail.php?stockid=000002&amp;type=1&amp;end_date=2015-07-14\" target=\"_blank\">查看</a></td>\n",
       "</tr>"
      ]
     },
     "execution_count": 38,
     "metadata": {},
     "output_type": "execute_result"
    }
   ],
   "source": [
    "for i in range(len(table_fh_sina)):\n",
    "    row_data = table_fh_sina[i]\n",
    "    "
   ]
  }
 ],
 "metadata": {
  "kernelspec": {
   "display_name": "Python 2",
   "language": "python",
   "name": "python2"
  },
  "language_info": {
   "codemirror_mode": {
    "name": "ipython",
    "version": 2
   },
   "file_extension": ".py",
   "mimetype": "text/x-python",
   "name": "python",
   "nbconvert_exporter": "python",
   "pygments_lexer": "ipython2",
   "version": "2.7.6"
  }
 },
 "nbformat": 4,
 "nbformat_minor": 1
}
