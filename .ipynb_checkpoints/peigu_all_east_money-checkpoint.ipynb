{
 "cells": [
  {
   "cell_type": "code",
   "execution_count": 65,
   "metadata": {
    "collapsed": true
   },
   "outputs": [],
   "source": [
    "import urllib\n",
    "import pandas\n",
    "import ast"
   ]
  },
  {
   "cell_type": "code",
   "execution_count": 84,
   "metadata": {
    "collapsed": false
   },
   "outputs": [],
   "source": [
    "url_peigu_all_east_money = u\"http://datainterface.eastmoney.com/EM_DataCenter/JS.aspx?type=NS&sty=NSA&st=6&sr=-1&p=1&ps=10000\""
   ]
  },
  {
   "cell_type": "code",
   "execution_count": 85,
   "metadata": {
    "collapsed": false
   },
   "outputs": [],
   "source": [
    "page_peigu_all_east_money = urllib.urlopen(url_peigu_all_east_money)"
   ]
  },
  {
   "cell_type": "code",
   "execution_count": 86,
   "metadata": {
    "collapsed": false
   },
   "outputs": [],
   "source": [
    "peigu_all_east_money = page_peigu_all_east_money.read()"
   ]
  },
  {
   "cell_type": "code",
   "execution_count": 87,
   "metadata": {
    "collapsed": false
   },
   "outputs": [],
   "source": [
    "peigu_all_east_money = peigu_all_east_money.strip(\"\\(\").strip(\"\\)\")"
   ]
  },
  {
   "cell_type": "code",
   "execution_count": 88,
   "metadata": {
    "collapsed": false
   },
   "outputs": [],
   "source": [
    "peigu_all_east_money = ast.literal_eval(peigu_all_east_money)"
   ]
  },
  {
   "cell_type": "code",
   "execution_count": 89,
   "metadata": {
    "collapsed": false
   },
   "outputs": [],
   "source": [
    "peigu_all_east_money = [element.split(\",\") for element in peigu_all_east_money]"
   ]
  },
  {
   "cell_type": "code",
   "execution_count": 111,
   "metadata": {
    "collapsed": true
   },
   "outputs": [],
   "source": [
    "col_names = [\"unknow0\", \"GSDM\", \"stock_code\", \"stock_name\", \"PGDM\",\n",
    "             \"PGMC\", \"PGBL\", \"PGJG\", \"GB_BEF\", \"PGSL\", \n",
    "             \"GB_AFT\", \"GQDJR\", \"JKQSR\", \"JKJZR\", \"PGSSR\",\n",
    "             \"CQJZR\", \"SJMZZE\", \"SJMZJE\", \"CXFS\", \"PGGGR\",\n",
    "             \"ZXJG\", \"unknow1\"]\n",
    "# GSDM: 公司代码\n",
    "# stock_code: 股票代码\n",
    "# stock_name: 股票名称\n",
    "# PGDM: 配股代码\n",
    "# PGMC: 配股名称\n",
    "# PGBL: 配股比例（10股配*）\n",
    "# PGJG: 配股价格\n",
    "# GB_BEF: 配股前股本\n",
    "# PGSL: 配股数量\n",
    "# GB_AFT: 配股后股本\n",
    "# GQDJR_T: 股权登记日，T日\n",
    "# JKQSR: 缴款起始日，T+1日\n",
    "# JKJZR: 缴款截止日, T+5日\n",
    "# PGSSR: 配股上市流通日\n",
    "# CQJZR： 除权基准日\n",
    "# SJMZZE: 实际募资总额\n",
    "# SJMZJE: 实际募资净额\n",
    "# CXFS: 承销方式\n",
    "# PGGGR: 刊登配股说明书及摘要、配股发行公告及网上路演公告日， T-2日\n",
    "# ZXJG: 最新价格\n",
    "# unknow0: 未知代码\n",
    "# unknow1: 未知代码，似乎和盈亏有关。在东方财富网是上，最新价黑色此列为空，绿色此列为负，红色此列为正。具体数值意义未知。"
   ]
  },
  {
   "cell_type": "code",
   "execution_count": 112,
   "metadata": {
    "collapsed": false
   },
   "outputs": [],
   "source": [
    "df_peigu_all_east_money = pandas.DataFrame(peigu_all_east_money, columns=col_names)"
   ]
  },
  {
   "cell_type": "code",
   "execution_count": 130,
   "metadata": {
    "collapsed": false,
    "scrolled": false
   },
   "outputs": [
    {
     "data": {
      "text/plain": [
       "unknow0              26743\n",
       "GSDM              80149508\n",
       "stock_code          300106\n",
       "stock_name            西部牧业\n",
       "PGDM                380106\n",
       "PGMC                 西部A1配\n",
       "PGBL                  3.00\n",
       "PGJG                  8.34\n",
       "GB_BEF        163800000.00\n",
       "PGSL           47532310.00\n",
       "GB_AFT        211332310.00\n",
       "GQDJR           2016-01-27\n",
       "JKQSR           2016-01-28\n",
       "JKJZR           2016-02-03\n",
       "PGSSR           2016-02-19\n",
       "CQJZR           2016-02-05\n",
       "SJMZZE        396419465.40\n",
       "SJMZJE        387661713.29\n",
       "CXFS                    代销\n",
       "PGGGR           2016-01-22\n",
       "ZXJG                 13.45\n",
       "unknow7             151.93\n",
       "Name: 6, dtype: object"
      ]
     },
     "execution_count": 130,
     "metadata": {},
     "output_type": "execute_result"
    }
   ],
   "source": [
    "df_peigu_all_east_money.ix[6]"
   ]
  }
 ],
 "metadata": {
  "kernelspec": {
   "display_name": "Python 2",
   "language": "python",
   "name": "python2"
  },
  "language_info": {
   "codemirror_mode": {
    "name": "ipython",
    "version": 2
   },
   "file_extension": ".py",
   "mimetype": "text/x-python",
   "name": "python",
   "nbconvert_exporter": "python",
   "pygments_lexer": "ipython2",
   "version": "2.7.6"
  }
 },
 "nbformat": 4,
 "nbformat_minor": 1
}
